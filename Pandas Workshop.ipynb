{
 "cells": [
  {
   "cell_type": "code",
   "execution_count": 2,
   "id": "4a8e4696-7e9b-4c15-95f3-97cee5778171",
   "metadata": {},
   "outputs": [
    {
     "name": "stdout",
     "output_type": "stream",
     "text": [
      "zsh:1: command not found: pip\n"
     ]
    }
   ],
   "source": [
    "!pip install pandas"
   ]
  },
  {
   "cell_type": "code",
   "execution_count": 3,
   "id": "a3e9e181-c685-4d86-bedb-8841c8f5252f",
   "metadata": {},
   "outputs": [
    {
     "name": "stdout",
     "output_type": "stream",
     "text": [
      "Collecting pandas\n",
      "  Using cached pandas-2.2.3-cp313-cp313-macosx_11_0_arm64.whl.metadata (89 kB)\n",
      "Collecting numpy>=1.26.0 (from pandas)\n",
      "  Using cached numpy-2.2.5-cp313-cp313-macosx_14_0_arm64.whl.metadata (62 kB)\n",
      "Requirement already satisfied: python-dateutil>=2.8.2 in /opt/homebrew/Cellar/jupyterlab/4.3.6/libexec/lib/python3.13/site-packages (from pandas) (2.9.0.post0)\n",
      "Collecting pytz>=2020.1 (from pandas)\n",
      "  Using cached pytz-2025.2-py2.py3-none-any.whl.metadata (22 kB)\n",
      "Collecting tzdata>=2022.7 (from pandas)\n",
      "  Using cached tzdata-2025.2-py2.py3-none-any.whl.metadata (1.4 kB)\n",
      "Requirement already satisfied: six>=1.5 in /opt/homebrew/Cellar/jupyterlab/4.3.6/libexec/lib/python3.13/site-packages (from python-dateutil>=2.8.2->pandas) (1.17.0)\n",
      "Using cached pandas-2.2.3-cp313-cp313-macosx_11_0_arm64.whl (11.3 MB)\n",
      "Using cached numpy-2.2.5-cp313-cp313-macosx_14_0_arm64.whl (5.1 MB)\n",
      "Using cached pytz-2025.2-py2.py3-none-any.whl (509 kB)\n",
      "Using cached tzdata-2025.2-py2.py3-none-any.whl (347 kB)\n",
      "Installing collected packages: pytz, tzdata, numpy, pandas\n",
      "Successfully installed numpy-2.2.5 pandas-2.2.3 pytz-2025.2 tzdata-2025.2\n",
      "\n",
      "\u001b[1m[\u001b[0m\u001b[34;49mnotice\u001b[0m\u001b[1;39;49m]\u001b[0m\u001b[39;49m A new release of pip is available: \u001b[0m\u001b[31;49m25.0\u001b[0m\u001b[39;49m -> \u001b[0m\u001b[32;49m25.1.1\u001b[0m\n",
      "\u001b[1m[\u001b[0m\u001b[34;49mnotice\u001b[0m\u001b[1;39;49m]\u001b[0m\u001b[39;49m To update, run: \u001b[0m\u001b[32;49m/opt/homebrew/Cellar/jupyterlab/4.3.6/libexec/bin/python -m pip install --upgrade pip\u001b[0m\n",
      "Note: you may need to restart the kernel to use updated packages.\n"
     ]
    }
   ],
   "source": [
    "%pip install pandas"
   ]
  },
  {
   "cell_type": "code",
   "execution_count": 4,
   "id": "763d0e24-1b47-4d36-98fc-82a8c47105d4",
   "metadata": {},
   "outputs": [],
   "source": [
    "import pandas as pd"
   ]
  },
  {
   "cell_type": "code",
   "execution_count": 7,
   "id": "f2df0afd-480f-4fce-bafb-312a9a4c1c62",
   "metadata": {},
   "outputs": [],
   "source": [
    "customers=pd.read_csv('Downloads/wk8-customers.csv')\n",
    "products=pd.read_csv('Downloads/wk8-products.csv')\n",
    "stores=pd.read_csv('Downloads/wk8-stores.csv')\n",
    "sales=pd.read_csv('Downloads/wk8-sales.csv')\n",
    "inventory=pd.read_csv('Downloads/wk8-inventory.csv')"
   ]
  },
  {
   "cell_type": "code",
   "execution_count": 8,
   "id": "54dd1a13-b347-4885-82e2-dfe53c9e5e07",
   "metadata": {},
   "outputs": [
    {
     "data": {
      "text/html": [
       "<div>\n",
       "<style scoped>\n",
       "    .dataframe tbody tr th:only-of-type {\n",
       "        vertical-align: middle;\n",
       "    }\n",
       "\n",
       "    .dataframe tbody tr th {\n",
       "        vertical-align: top;\n",
       "    }\n",
       "\n",
       "    .dataframe thead th {\n",
       "        text-align: right;\n",
       "    }\n",
       "</style>\n",
       "<table border=\"1\" class=\"dataframe\">\n",
       "  <thead>\n",
       "    <tr style=\"text-align: right;\">\n",
       "      <th></th>\n",
       "      <th>customer_id</th>\n",
       "      <th>first_name</th>\n",
       "      <th>last_name</th>\n",
       "      <th>email</th>\n",
       "      <th>phone</th>\n",
       "      <th>address</th>\n",
       "      <th>city</th>\n",
       "      <th>state</th>\n",
       "      <th>zip_code</th>\n",
       "      <th>registration_date</th>\n",
       "    </tr>\n",
       "  </thead>\n",
       "  <tbody>\n",
       "    <tr>\n",
       "      <th>0</th>\n",
       "      <td>1</td>\n",
       "      <td>James</td>\n",
       "      <td>Smith</td>\n",
       "      <td>james.smith@gmail.com</td>\n",
       "      <td>555-123-4567</td>\n",
       "      <td>123 Main St</td>\n",
       "      <td>New York</td>\n",
       "      <td>NY</td>\n",
       "      <td>10001</td>\n",
       "      <td>2021-03-15</td>\n",
       "    </tr>\n",
       "    <tr>\n",
       "      <th>1</th>\n",
       "      <td>2</td>\n",
       "      <td>Mary</td>\n",
       "      <td>Johnson</td>\n",
       "      <td>NaN</td>\n",
       "      <td>212.555.6789</td>\n",
       "      <td>456 Park Ave</td>\n",
       "      <td>New York</td>\n",
       "      <td>NY</td>\n",
       "      <td>10022</td>\n",
       "      <td>2020-11-02</td>\n",
       "    </tr>\n",
       "    <tr>\n",
       "      <th>2</th>\n",
       "      <td>3</td>\n",
       "      <td>John</td>\n",
       "      <td>Williams</td>\n",
       "      <td>jwilliams@yahoo.com</td>\n",
       "      <td>(555) 987-6543</td>\n",
       "      <td>789 Broadway</td>\n",
       "      <td>Los Angeles</td>\n",
       "      <td>California</td>\n",
       "      <td>90001-1234</td>\n",
       "      <td>2021-05-20</td>\n",
       "    </tr>\n",
       "  </tbody>\n",
       "</table>\n",
       "</div>"
      ],
      "text/plain": [
       "   customer_id first_name last_name                  email           phone  \\\n",
       "0            1      James     Smith  james.smith@gmail.com    555-123-4567   \n",
       "1            2       Mary   Johnson                    NaN    212.555.6789   \n",
       "2            3       John  Williams    jwilliams@yahoo.com  (555) 987-6543   \n",
       "\n",
       "        address         city       state    zip_code registration_date  \n",
       "0   123 Main St     New York          NY       10001        2021-03-15  \n",
       "1  456 Park Ave     New York          NY       10022        2020-11-02  \n",
       "2  789 Broadway  Los Angeles  California  90001-1234        2021-05-20  "
      ]
     },
     "execution_count": 8,
     "metadata": {},
     "output_type": "execute_result"
    }
   ],
   "source": [
    "#1.1\n",
    "customers.head(3)"
   ]
  },
  {
   "cell_type": "code",
   "execution_count": 9,
   "id": "80efb981-9561-433d-ac2c-040027dc0440",
   "metadata": {},
   "outputs": [
    {
     "data": {
      "text/html": [
       "<div>\n",
       "<style scoped>\n",
       "    .dataframe tbody tr th:only-of-type {\n",
       "        vertical-align: middle;\n",
       "    }\n",
       "\n",
       "    .dataframe tbody tr th {\n",
       "        vertical-align: top;\n",
       "    }\n",
       "\n",
       "    .dataframe thead th {\n",
       "        text-align: right;\n",
       "    }\n",
       "</style>\n",
       "<table border=\"1\" class=\"dataframe\">\n",
       "  <thead>\n",
       "    <tr style=\"text-align: right;\">\n",
       "      <th></th>\n",
       "      <th>product_id</th>\n",
       "      <th>product_name</th>\n",
       "      <th>category</th>\n",
       "      <th>subcategory</th>\n",
       "      <th>brand</th>\n",
       "      <th>price</th>\n",
       "      <th>cost</th>\n",
       "      <th>weight</th>\n",
       "    </tr>\n",
       "  </thead>\n",
       "  <tbody>\n",
       "    <tr>\n",
       "      <th>0</th>\n",
       "      <td>1</td>\n",
       "      <td>Apple iPhone 13</td>\n",
       "      <td>Electronics</td>\n",
       "      <td>Smartphones</td>\n",
       "      <td>Apple</td>\n",
       "      <td>899.99</td>\n",
       "      <td>649.99</td>\n",
       "      <td>0.45</td>\n",
       "    </tr>\n",
       "    <tr>\n",
       "      <th>1</th>\n",
       "      <td>2</td>\n",
       "      <td>Samsung Galaxy S21</td>\n",
       "      <td>electronics</td>\n",
       "      <td>Smartphones</td>\n",
       "      <td>Samsung</td>\n",
       "      <td>799.99</td>\n",
       "      <td>539.99</td>\n",
       "      <td>0.50</td>\n",
       "    </tr>\n",
       "    <tr>\n",
       "      <th>2</th>\n",
       "      <td>3</td>\n",
       "      <td>Sony WH-1000XM4</td>\n",
       "      <td>ELECTRONICS</td>\n",
       "      <td>Headphones</td>\n",
       "      <td>Sony</td>\n",
       "      <td>349.99</td>\n",
       "      <td>210.00</td>\n",
       "      <td>0.60</td>\n",
       "    </tr>\n",
       "  </tbody>\n",
       "</table>\n",
       "</div>"
      ],
      "text/plain": [
       "   product_id        product_name     category  subcategory    brand   price  \\\n",
       "0           1     Apple iPhone 13  Electronics  Smartphones    Apple  899.99   \n",
       "1           2  Samsung Galaxy S21  electronics  Smartphones  Samsung  799.99   \n",
       "2           3     Sony WH-1000XM4  ELECTRONICS   Headphones     Sony  349.99   \n",
       "\n",
       "     cost  weight  \n",
       "0  649.99    0.45  \n",
       "1  539.99    0.50  \n",
       "2  210.00    0.60  "
      ]
     },
     "execution_count": 9,
     "metadata": {},
     "output_type": "execute_result"
    }
   ],
   "source": [
    "products.head(3)"
   ]
  },
  {
   "cell_type": "code",
   "execution_count": 10,
   "id": "ff5f0efe-9720-44a5-904a-75c168cde4e2",
   "metadata": {},
   "outputs": [
    {
     "data": {
      "text/html": [
       "<div>\n",
       "<style scoped>\n",
       "    .dataframe tbody tr th:only-of-type {\n",
       "        vertical-align: middle;\n",
       "    }\n",
       "\n",
       "    .dataframe tbody tr th {\n",
       "        vertical-align: top;\n",
       "    }\n",
       "\n",
       "    .dataframe thead th {\n",
       "        text-align: right;\n",
       "    }\n",
       "</style>\n",
       "<table border=\"1\" class=\"dataframe\">\n",
       "  <thead>\n",
       "    <tr style=\"text-align: right;\">\n",
       "      <th></th>\n",
       "      <th>store_id</th>\n",
       "      <th>store_name</th>\n",
       "      <th>address</th>\n",
       "      <th>city</th>\n",
       "      <th>state</th>\n",
       "      <th>zip_code</th>\n",
       "      <th>region</th>\n",
       "      <th>size_sqft</th>\n",
       "      <th>opening_date</th>\n",
       "    </tr>\n",
       "  </thead>\n",
       "  <tbody>\n",
       "    <tr>\n",
       "      <th>0</th>\n",
       "      <td>1</td>\n",
       "      <td>City Center</td>\n",
       "      <td>123 Retail Blvd</td>\n",
       "      <td>New York</td>\n",
       "      <td>NY</td>\n",
       "      <td>10001</td>\n",
       "      <td>Northeast</td>\n",
       "      <td>32500.0</td>\n",
       "      <td>2005-05-20</td>\n",
       "    </tr>\n",
       "    <tr>\n",
       "      <th>1</th>\n",
       "      <td>2</td>\n",
       "      <td>Mall of Chicago</td>\n",
       "      <td>456 Shopping Ave</td>\n",
       "      <td>Chicago</td>\n",
       "      <td>IL</td>\n",
       "      <td>60611</td>\n",
       "      <td>Midwest</td>\n",
       "      <td>45000.0</td>\n",
       "      <td>2007-08-15</td>\n",
       "    </tr>\n",
       "    <tr>\n",
       "      <th>2</th>\n",
       "      <td>3</td>\n",
       "      <td>Los Angeles Plaza</td>\n",
       "      <td>789 Commerce St</td>\n",
       "      <td>Los Angeles</td>\n",
       "      <td>CA</td>\n",
       "      <td>90001</td>\n",
       "      <td>West</td>\n",
       "      <td>55000.0</td>\n",
       "      <td>2004-03-10</td>\n",
       "    </tr>\n",
       "  </tbody>\n",
       "</table>\n",
       "</div>"
      ],
      "text/plain": [
       "   store_id         store_name           address         city state zip_code  \\\n",
       "0         1        City Center   123 Retail Blvd     New York    NY    10001   \n",
       "1         2    Mall of Chicago  456 Shopping Ave      Chicago    IL    60611   \n",
       "2         3  Los Angeles Plaza   789 Commerce St  Los Angeles    CA    90001   \n",
       "\n",
       "      region  size_sqft opening_date  \n",
       "0  Northeast    32500.0   2005-05-20  \n",
       "1    Midwest    45000.0   2007-08-15  \n",
       "2       West    55000.0   2004-03-10  "
      ]
     },
     "execution_count": 10,
     "metadata": {},
     "output_type": "execute_result"
    }
   ],
   "source": [
    "stores.head(3)"
   ]
  },
  {
   "cell_type": "code",
   "execution_count": 11,
   "id": "e53cd3db-0294-42de-a995-56316b00ad94",
   "metadata": {},
   "outputs": [
    {
     "data": {
      "text/html": [
       "<div>\n",
       "<style scoped>\n",
       "    .dataframe tbody tr th:only-of-type {\n",
       "        vertical-align: middle;\n",
       "    }\n",
       "\n",
       "    .dataframe tbody tr th {\n",
       "        vertical-align: top;\n",
       "    }\n",
       "\n",
       "    .dataframe thead th {\n",
       "        text-align: right;\n",
       "    }\n",
       "</style>\n",
       "<table border=\"1\" class=\"dataframe\">\n",
       "  <thead>\n",
       "    <tr style=\"text-align: right;\">\n",
       "      <th></th>\n",
       "      <th>sale_id</th>\n",
       "      <th>date</th>\n",
       "      <th>store_id</th>\n",
       "      <th>customer_id</th>\n",
       "      <th>product_id</th>\n",
       "      <th>quantity</th>\n",
       "      <th>total</th>\n",
       "      <th>payment_method</th>\n",
       "    </tr>\n",
       "  </thead>\n",
       "  <tbody>\n",
       "    <tr>\n",
       "      <th>0</th>\n",
       "      <td>1</td>\n",
       "      <td>2022-01-15</td>\n",
       "      <td>3.0</td>\n",
       "      <td>12</td>\n",
       "      <td>5</td>\n",
       "      <td>2</td>\n",
       "      <td>49.98</td>\n",
       "      <td>Credit Card</td>\n",
       "    </tr>\n",
       "    <tr>\n",
       "      <th>1</th>\n",
       "      <td>2</td>\n",
       "      <td>2022-01-16</td>\n",
       "      <td>1.0</td>\n",
       "      <td>5</td>\n",
       "      <td>10</td>\n",
       "      <td>1</td>\n",
       "      <td>49.99</td>\n",
       "      <td>credit card</td>\n",
       "    </tr>\n",
       "    <tr>\n",
       "      <th>2</th>\n",
       "      <td>3</td>\n",
       "      <td>2022-01-18</td>\n",
       "      <td>2.0</td>\n",
       "      <td>8</td>\n",
       "      <td>3</td>\n",
       "      <td>1</td>\n",
       "      <td>349.99</td>\n",
       "      <td>DEBIT CARD</td>\n",
       "    </tr>\n",
       "  </tbody>\n",
       "</table>\n",
       "</div>"
      ],
      "text/plain": [
       "   sale_id        date  store_id  customer_id  product_id  quantity   total  \\\n",
       "0        1  2022-01-15       3.0           12           5         2   49.98   \n",
       "1        2  2022-01-16       1.0            5          10         1   49.99   \n",
       "2        3  2022-01-18       2.0            8           3         1  349.99   \n",
       "\n",
       "  payment_method  \n",
       "0    Credit Card  \n",
       "1    credit card  \n",
       "2     DEBIT CARD  "
      ]
     },
     "execution_count": 11,
     "metadata": {},
     "output_type": "execute_result"
    }
   ],
   "source": [
    "sales.head(3)"
   ]
  },
  {
   "cell_type": "code",
   "execution_count": 12,
   "id": "27984c7c-9304-4088-a45e-a8c2e0db709b",
   "metadata": {},
   "outputs": [
    {
     "data": {
      "text/html": [
       "<div>\n",
       "<style scoped>\n",
       "    .dataframe tbody tr th:only-of-type {\n",
       "        vertical-align: middle;\n",
       "    }\n",
       "\n",
       "    .dataframe tbody tr th {\n",
       "        vertical-align: top;\n",
       "    }\n",
       "\n",
       "    .dataframe thead th {\n",
       "        text-align: right;\n",
       "    }\n",
       "</style>\n",
       "<table border=\"1\" class=\"dataframe\">\n",
       "  <thead>\n",
       "    <tr style=\"text-align: right;\">\n",
       "      <th></th>\n",
       "      <th>inventory_id</th>\n",
       "      <th>store_id</th>\n",
       "      <th>product_id</th>\n",
       "      <th>quantity_in_stock</th>\n",
       "      <th>last_restock_date</th>\n",
       "      <th>reorder_level</th>\n",
       "    </tr>\n",
       "  </thead>\n",
       "  <tbody>\n",
       "    <tr>\n",
       "      <th>0</th>\n",
       "      <td>1</td>\n",
       "      <td>1</td>\n",
       "      <td>1</td>\n",
       "      <td>25</td>\n",
       "      <td>2022-10-15</td>\n",
       "      <td>10.0</td>\n",
       "    </tr>\n",
       "    <tr>\n",
       "      <th>1</th>\n",
       "      <td>2</td>\n",
       "      <td>1</td>\n",
       "      <td>5</td>\n",
       "      <td>42</td>\n",
       "      <td>2022-11-02</td>\n",
       "      <td>15.0</td>\n",
       "    </tr>\n",
       "    <tr>\n",
       "      <th>2</th>\n",
       "      <td>3</td>\n",
       "      <td>1</td>\n",
       "      <td>10</td>\n",
       "      <td>18</td>\n",
       "      <td>2022-09-30</td>\n",
       "      <td>8.0</td>\n",
       "    </tr>\n",
       "  </tbody>\n",
       "</table>\n",
       "</div>"
      ],
      "text/plain": [
       "   inventory_id  store_id  product_id  quantity_in_stock last_restock_date  \\\n",
       "0             1         1           1                 25        2022-10-15   \n",
       "1             2         1           5                 42        2022-11-02   \n",
       "2             3         1          10                 18        2022-09-30   \n",
       "\n",
       "   reorder_level  \n",
       "0           10.0  \n",
       "1           15.0  \n",
       "2            8.0  "
      ]
     },
     "execution_count": 12,
     "metadata": {},
     "output_type": "execute_result"
    }
   ],
   "source": [
    "inventory.head(3)"
   ]
  },
  {
   "cell_type": "code",
   "execution_count": 34,
   "id": "ba368624-5193-42b6-b0e4-611cffe81435",
   "metadata": {},
   "outputs": [
    {
     "data": {
      "text/html": [
       "<div>\n",
       "<style scoped>\n",
       "    .dataframe tbody tr th:only-of-type {\n",
       "        vertical-align: middle;\n",
       "    }\n",
       "\n",
       "    .dataframe tbody tr th {\n",
       "        vertical-align: top;\n",
       "    }\n",
       "\n",
       "    .dataframe thead th {\n",
       "        text-align: right;\n",
       "    }\n",
       "</style>\n",
       "<table border=\"1\" class=\"dataframe\">\n",
       "  <thead>\n",
       "    <tr style=\"text-align: right;\">\n",
       "      <th></th>\n",
       "      <th>product_id</th>\n",
       "      <th>price</th>\n",
       "      <th>cost</th>\n",
       "      <th>weight</th>\n",
       "    </tr>\n",
       "  </thead>\n",
       "  <tbody>\n",
       "    <tr>\n",
       "      <th>count</th>\n",
       "      <td>30.000000</td>\n",
       "      <td>30.000000</td>\n",
       "      <td>30.000000</td>\n",
       "      <td>28.000000</td>\n",
       "    </tr>\n",
       "    <tr>\n",
       "      <th>mean</th>\n",
       "      <td>15.500000</td>\n",
       "      <td>191.724000</td>\n",
       "      <td>203.159000</td>\n",
       "      <td>3.835714</td>\n",
       "    </tr>\n",
       "    <tr>\n",
       "      <th>std</th>\n",
       "      <td>8.803408</td>\n",
       "      <td>452.483576</td>\n",
       "      <td>278.924138</td>\n",
       "      <td>5.693236</td>\n",
       "    </tr>\n",
       "    <tr>\n",
       "      <th>min</th>\n",
       "      <td>1.000000</td>\n",
       "      <td>-1599.990000</td>\n",
       "      <td>1.800000</td>\n",
       "      <td>0.200000</td>\n",
       "    </tr>\n",
       "    <tr>\n",
       "      <th>25%</th>\n",
       "      <td>8.250000</td>\n",
       "      <td>46.990000</td>\n",
       "      <td>28.375000</td>\n",
       "      <td>0.500000</td>\n",
       "    </tr>\n",
       "    <tr>\n",
       "      <th>50%</th>\n",
       "      <td>15.500000</td>\n",
       "      <td>134.990000</td>\n",
       "      <td>82.500000</td>\n",
       "      <td>1.150000</td>\n",
       "    </tr>\n",
       "    <tr>\n",
       "      <th>75%</th>\n",
       "      <td>22.750000</td>\n",
       "      <td>322.490000</td>\n",
       "      <td>236.250000</td>\n",
       "      <td>3.750000</td>\n",
       "    </tr>\n",
       "    <tr>\n",
       "      <th>max</th>\n",
       "      <td>30.000000</td>\n",
       "      <td>1299.990000</td>\n",
       "      <td>1100.000000</td>\n",
       "      <td>25.000000</td>\n",
       "    </tr>\n",
       "  </tbody>\n",
       "</table>\n",
       "</div>"
      ],
      "text/plain": [
       "       product_id        price         cost     weight\n",
       "count   30.000000    30.000000    30.000000  28.000000\n",
       "mean    15.500000   191.724000   203.159000   3.835714\n",
       "std      8.803408   452.483576   278.924138   5.693236\n",
       "min      1.000000 -1599.990000     1.800000   0.200000\n",
       "25%      8.250000    46.990000    28.375000   0.500000\n",
       "50%     15.500000   134.990000    82.500000   1.150000\n",
       "75%     22.750000   322.490000   236.250000   3.750000\n",
       "max     30.000000  1299.990000  1100.000000  25.000000"
      ]
     },
     "execution_count": 34,
     "metadata": {},
     "output_type": "execute_result"
    }
   ],
   "source": [
    "# 1.2 summary stats\n",
    "products.describe()"
   ]
  },
  {
   "cell_type": "code",
   "execution_count": 33,
   "id": "d7134bc5-9021-4f83-8525-e45ea7ca1ab8",
   "metadata": {},
   "outputs": [
    {
     "data": {
      "text/html": [
       "<div>\n",
       "<style scoped>\n",
       "    .dataframe tbody tr th:only-of-type {\n",
       "        vertical-align: middle;\n",
       "    }\n",
       "\n",
       "    .dataframe tbody tr th {\n",
       "        vertical-align: top;\n",
       "    }\n",
       "\n",
       "    .dataframe thead th {\n",
       "        text-align: right;\n",
       "    }\n",
       "</style>\n",
       "<table border=\"1\" class=\"dataframe\">\n",
       "  <thead>\n",
       "    <tr style=\"text-align: right;\">\n",
       "      <th></th>\n",
       "      <th>sale_id</th>\n",
       "      <th>store_id</th>\n",
       "      <th>customer_id</th>\n",
       "      <th>product_id</th>\n",
       "      <th>quantity</th>\n",
       "      <th>total</th>\n",
       "    </tr>\n",
       "  </thead>\n",
       "  <tbody>\n",
       "    <tr>\n",
       "      <th>count</th>\n",
       "      <td>40.000000</td>\n",
       "      <td>39.000000</td>\n",
       "      <td>40.000000</td>\n",
       "      <td>40.000000</td>\n",
       "      <td>40.000000</td>\n",
       "      <td>40.000000</td>\n",
       "    </tr>\n",
       "    <tr>\n",
       "      <th>mean</th>\n",
       "      <td>20.500000</td>\n",
       "      <td>6.487179</td>\n",
       "      <td>14.075000</td>\n",
       "      <td>13.500000</td>\n",
       "      <td>1.625000</td>\n",
       "      <td>352.296500</td>\n",
       "    </tr>\n",
       "    <tr>\n",
       "      <th>std</th>\n",
       "      <td>11.690452</td>\n",
       "      <td>4.235637</td>\n",
       "      <td>8.303189</td>\n",
       "      <td>8.857852</td>\n",
       "      <td>0.952392</td>\n",
       "      <td>377.625776</td>\n",
       "    </tr>\n",
       "    <tr>\n",
       "      <th>min</th>\n",
       "      <td>1.000000</td>\n",
       "      <td>1.000000</td>\n",
       "      <td>1.000000</td>\n",
       "      <td>1.000000</td>\n",
       "      <td>1.000000</td>\n",
       "      <td>19.980000</td>\n",
       "    </tr>\n",
       "    <tr>\n",
       "      <th>25%</th>\n",
       "      <td>10.750000</td>\n",
       "      <td>3.000000</td>\n",
       "      <td>6.750000</td>\n",
       "      <td>5.750000</td>\n",
       "      <td>1.000000</td>\n",
       "      <td>99.737500</td>\n",
       "    </tr>\n",
       "    <tr>\n",
       "      <th>50%</th>\n",
       "      <td>20.500000</td>\n",
       "      <td>6.000000</td>\n",
       "      <td>13.500000</td>\n",
       "      <td>11.500000</td>\n",
       "      <td>1.000000</td>\n",
       "      <td>229.985000</td>\n",
       "    </tr>\n",
       "    <tr>\n",
       "      <th>75%</th>\n",
       "      <td>30.250000</td>\n",
       "      <td>9.500000</td>\n",
       "      <td>20.250000</td>\n",
       "      <td>21.250000</td>\n",
       "      <td>2.000000</td>\n",
       "      <td>352.487500</td>\n",
       "    </tr>\n",
       "    <tr>\n",
       "      <th>max</th>\n",
       "      <td>40.000000</td>\n",
       "      <td>15.000000</td>\n",
       "      <td>29.000000</td>\n",
       "      <td>30.000000</td>\n",
       "      <td>5.000000</td>\n",
       "      <td>1599.990000</td>\n",
       "    </tr>\n",
       "  </tbody>\n",
       "</table>\n",
       "</div>"
      ],
      "text/plain": [
       "         sale_id   store_id  customer_id  product_id   quantity        total\n",
       "count  40.000000  39.000000    40.000000   40.000000  40.000000    40.000000\n",
       "mean   20.500000   6.487179    14.075000   13.500000   1.625000   352.296500\n",
       "std    11.690452   4.235637     8.303189    8.857852   0.952392   377.625776\n",
       "min     1.000000   1.000000     1.000000    1.000000   1.000000    19.980000\n",
       "25%    10.750000   3.000000     6.750000    5.750000   1.000000    99.737500\n",
       "50%    20.500000   6.000000    13.500000   11.500000   1.000000   229.985000\n",
       "75%    30.250000   9.500000    20.250000   21.250000   2.000000   352.487500\n",
       "max    40.000000  15.000000    29.000000   30.000000   5.000000  1599.990000"
      ]
     },
     "execution_count": 33,
     "metadata": {},
     "output_type": "execute_result"
    }
   ],
   "source": [
    "sales.describe()"
   ]
  },
  {
   "cell_type": "code",
   "execution_count": 32,
   "id": "5055c138-f5e9-4c5f-bf24-46711df3c556",
   "metadata": {},
   "outputs": [
    {
     "data": {
      "text/html": [
       "<div>\n",
       "<style scoped>\n",
       "    .dataframe tbody tr th:only-of-type {\n",
       "        vertical-align: middle;\n",
       "    }\n",
       "\n",
       "    .dataframe tbody tr th {\n",
       "        vertical-align: top;\n",
       "    }\n",
       "\n",
       "    .dataframe thead th {\n",
       "        text-align: right;\n",
       "    }\n",
       "</style>\n",
       "<table border=\"1\" class=\"dataframe\">\n",
       "  <thead>\n",
       "    <tr style=\"text-align: right;\">\n",
       "      <th></th>\n",
       "      <th>inventory_id</th>\n",
       "      <th>store_id</th>\n",
       "      <th>product_id</th>\n",
       "      <th>quantity_in_stock</th>\n",
       "      <th>reorder_level</th>\n",
       "    </tr>\n",
       "  </thead>\n",
       "  <tbody>\n",
       "    <tr>\n",
       "      <th>count</th>\n",
       "      <td>75.000000</td>\n",
       "      <td>75.000000</td>\n",
       "      <td>75.000000</td>\n",
       "      <td>75.000000</td>\n",
       "      <td>69.000000</td>\n",
       "    </tr>\n",
       "    <tr>\n",
       "      <th>mean</th>\n",
       "      <td>38.000000</td>\n",
       "      <td>8.000000</td>\n",
       "      <td>12.733333</td>\n",
       "      <td>22.640000</td>\n",
       "      <td>12.681159</td>\n",
       "    </tr>\n",
       "    <tr>\n",
       "      <th>std</th>\n",
       "      <td>21.794495</td>\n",
       "      <td>4.349588</td>\n",
       "      <td>7.179801</td>\n",
       "      <td>13.923187</td>\n",
       "      <td>3.327659</td>\n",
       "    </tr>\n",
       "    <tr>\n",
       "      <th>min</th>\n",
       "      <td>1.000000</td>\n",
       "      <td>1.000000</td>\n",
       "      <td>1.000000</td>\n",
       "      <td>0.000000</td>\n",
       "      <td>8.000000</td>\n",
       "    </tr>\n",
       "    <tr>\n",
       "      <th>25%</th>\n",
       "      <td>19.500000</td>\n",
       "      <td>4.000000</td>\n",
       "      <td>6.500000</td>\n",
       "      <td>15.000000</td>\n",
       "      <td>10.000000</td>\n",
       "    </tr>\n",
       "    <tr>\n",
       "      <th>50%</th>\n",
       "      <td>38.000000</td>\n",
       "      <td>8.000000</td>\n",
       "      <td>13.000000</td>\n",
       "      <td>25.000000</td>\n",
       "      <td>10.000000</td>\n",
       "    </tr>\n",
       "    <tr>\n",
       "      <th>75%</th>\n",
       "      <td>56.500000</td>\n",
       "      <td>12.000000</td>\n",
       "      <td>19.000000</td>\n",
       "      <td>33.500000</td>\n",
       "      <td>15.000000</td>\n",
       "    </tr>\n",
       "    <tr>\n",
       "      <th>max</th>\n",
       "      <td>75.000000</td>\n",
       "      <td>15.000000</td>\n",
       "      <td>25.000000</td>\n",
       "      <td>45.000000</td>\n",
       "      <td>20.000000</td>\n",
       "    </tr>\n",
       "  </tbody>\n",
       "</table>\n",
       "</div>"
      ],
      "text/plain": [
       "       inventory_id   store_id  product_id  quantity_in_stock  reorder_level\n",
       "count     75.000000  75.000000   75.000000          75.000000      69.000000\n",
       "mean      38.000000   8.000000   12.733333          22.640000      12.681159\n",
       "std       21.794495   4.349588    7.179801          13.923187       3.327659\n",
       "min        1.000000   1.000000    1.000000           0.000000       8.000000\n",
       "25%       19.500000   4.000000    6.500000          15.000000      10.000000\n",
       "50%       38.000000   8.000000   13.000000          25.000000      10.000000\n",
       "75%       56.500000  12.000000   19.000000          33.500000      15.000000\n",
       "max       75.000000  15.000000   25.000000          45.000000      20.000000"
      ]
     },
     "execution_count": 32,
     "metadata": {},
     "output_type": "execute_result"
    }
   ],
   "source": [
    "inventory.describe()"
   ]
  },
  {
   "cell_type": "code",
   "execution_count": 38,
   "id": "2196fc5a-40a5-4d0b-ba57-808ccec66e5b",
   "metadata": {},
   "outputs": [
    {
     "data": {
      "text/plain": [
       "customer_id          0\n",
       "first_name           0\n",
       "last_name            0\n",
       "email                3\n",
       "phone                2\n",
       "address              0\n",
       "city                 0\n",
       "state                0\n",
       "zip_code             1\n",
       "registration_date    3\n",
       "dtype: int64"
      ]
     },
     "execution_count": 38,
     "metadata": {},
     "output_type": "execute_result"
    }
   ],
   "source": [
    "#1.2 missing values in all dataframes\n",
    "customers.isnull().sum()"
   ]
  },
  {
   "cell_type": "code",
   "execution_count": 37,
   "id": "de3c0818-cd46-4d1c-aab8-6432e3b7509e",
   "metadata": {},
   "outputs": [
    {
     "data": {
      "text/plain": [
       "product_id      0\n",
       "product_name    0\n",
       "category        0\n",
       "subcategory     0\n",
       "brand           0\n",
       "price           0\n",
       "cost            0\n",
       "weight          2\n",
       "dtype: int64"
      ]
     },
     "execution_count": 37,
     "metadata": {},
     "output_type": "execute_result"
    }
   ],
   "source": [
    "products.isnull().sum()"
   ]
  },
  {
   "cell_type": "code",
   "execution_count": 39,
   "id": "ca0a7eff-f682-42f4-a904-d21dad62fec6",
   "metadata": {},
   "outputs": [
    {
     "data": {
      "text/plain": [
       "store_id        0\n",
       "store_name      0\n",
       "address         0\n",
       "city            0\n",
       "state           0\n",
       "zip_code        0\n",
       "region          0\n",
       "size_sqft       2\n",
       "opening_date    1\n",
       "dtype: int64"
      ]
     },
     "execution_count": 39,
     "metadata": {},
     "output_type": "execute_result"
    }
   ],
   "source": [
    "stores.isnull().sum()"
   ]
  },
  {
   "cell_type": "code",
   "execution_count": 40,
   "id": "afee4a28-d0d3-4d0f-824a-eda18937ce1e",
   "metadata": {},
   "outputs": [
    {
     "data": {
      "text/plain": [
       "sale_id           0\n",
       "date              1\n",
       "store_id          1\n",
       "customer_id       0\n",
       "product_id        0\n",
       "quantity          0\n",
       "total             0\n",
       "payment_method    1\n",
       "dtype: int64"
      ]
     },
     "execution_count": 40,
     "metadata": {},
     "output_type": "execute_result"
    }
   ],
   "source": [
    "sales.isnull().sum()"
   ]
  },
  {
   "cell_type": "code",
   "execution_count": 41,
   "id": "0938bfc1-ab45-4798-9e0a-4a85fa434942",
   "metadata": {},
   "outputs": [
    {
     "data": {
      "text/plain": [
       "inventory_id         0\n",
       "store_id             0\n",
       "product_id           0\n",
       "quantity_in_stock    0\n",
       "last_restock_date    9\n",
       "reorder_level        6\n",
       "dtype: int64"
      ]
     },
     "execution_count": 41,
     "metadata": {},
     "output_type": "execute_result"
    }
   ],
   "source": [
    "inventory.isnull().sum()"
   ]
  },
  {
   "cell_type": "code",
   "execution_count": 42,
   "id": "c8cc42e8-1756-4a35-80be-3ee00e5b8b17",
   "metadata": {},
   "outputs": [
    {
     "data": {
      "text/plain": [
       "customer_id           int64\n",
       "first_name           object\n",
       "last_name            object\n",
       "email                object\n",
       "phone                object\n",
       "address              object\n",
       "city                 object\n",
       "state                object\n",
       "zip_code             object\n",
       "registration_date    object\n",
       "dtype: object"
      ]
     },
     "execution_count": 42,
     "metadata": {},
     "output_type": "execute_result"
    }
   ],
   "source": [
    "#1.2 data types of all columns\n",
    "customers.dtypes"
   ]
  },
  {
   "cell_type": "code",
   "execution_count": 47,
   "id": "a7cfe452-0856-4726-a183-5711bedeea2e",
   "metadata": {},
   "outputs": [
    {
     "data": {
      "text/plain": [
       "product_id        int64\n",
       "product_name     object\n",
       "category         object\n",
       "subcategory      object\n",
       "brand            object\n",
       "price           float64\n",
       "cost            float64\n",
       "weight          float64\n",
       "dtype: object"
      ]
     },
     "execution_count": 47,
     "metadata": {},
     "output_type": "execute_result"
    }
   ],
   "source": [
    "products.dtypes"
   ]
  },
  {
   "cell_type": "code",
   "execution_count": 46,
   "id": "56bbd63c-3efe-4b1f-8d1c-f5181cf3b405",
   "metadata": {},
   "outputs": [
    {
     "data": {
      "text/plain": [
       "store_id          int64\n",
       "store_name       object\n",
       "address          object\n",
       "city             object\n",
       "state            object\n",
       "zip_code         object\n",
       "region           object\n",
       "size_sqft       float64\n",
       "opening_date     object\n",
       "dtype: object"
      ]
     },
     "execution_count": 46,
     "metadata": {},
     "output_type": "execute_result"
    }
   ],
   "source": [
    "stores.dtypes"
   ]
  },
  {
   "cell_type": "code",
   "execution_count": 48,
   "id": "059346df-1986-48ab-9a15-2af123d9bc8d",
   "metadata": {},
   "outputs": [
    {
     "data": {
      "text/plain": [
       "sale_id             int64\n",
       "date               object\n",
       "store_id          float64\n",
       "customer_id         int64\n",
       "product_id          int64\n",
       "quantity            int64\n",
       "total             float64\n",
       "payment_method     object\n",
       "dtype: object"
      ]
     },
     "execution_count": 48,
     "metadata": {},
     "output_type": "execute_result"
    }
   ],
   "source": [
    "sales.dtypes"
   ]
  },
  {
   "cell_type": "code",
   "execution_count": 49,
   "id": "e7b5709c-0290-4c50-9c85-3ce8731b015e",
   "metadata": {},
   "outputs": [
    {
     "data": {
      "text/plain": [
       "inventory_id           int64\n",
       "store_id               int64\n",
       "product_id             int64\n",
       "quantity_in_stock      int64\n",
       "last_restock_date     object\n",
       "reorder_level        float64\n",
       "dtype: object"
      ]
     },
     "execution_count": 49,
     "metadata": {},
     "output_type": "execute_result"
    }
   ],
   "source": [
    "inventory.dtypes"
   ]
  },
  {
   "cell_type": "code",
   "execution_count": 50,
   "id": "c430451f-7ee7-4208-be42-8928292af840",
   "metadata": {},
   "outputs": [
    {
     "data": {
      "text/plain": [
       "30"
      ]
     },
     "execution_count": 50,
     "metadata": {},
     "output_type": "execute_result"
    }
   ],
   "source": [
    "#1.3 unique products in product category\n",
    "products['product_id'].nunique()"
   ]
  },
  {
   "cell_type": "code",
   "execution_count": 53,
   "id": "de3de559-f607-4e38-9973-4127fe932344",
   "metadata": {},
   "outputs": [
    {
     "data": {
      "text/html": [
       "<div>\n",
       "<style scoped>\n",
       "    .dataframe tbody tr th:only-of-type {\n",
       "        vertical-align: middle;\n",
       "    }\n",
       "\n",
       "    .dataframe tbody tr th {\n",
       "        vertical-align: top;\n",
       "    }\n",
       "\n",
       "    .dataframe thead th {\n",
       "        text-align: right;\n",
       "    }\n",
       "</style>\n",
       "<table border=\"1\" class=\"dataframe\">\n",
       "  <thead>\n",
       "    <tr style=\"text-align: right;\">\n",
       "      <th></th>\n",
       "      <th>product_id</th>\n",
       "      <th>product_name</th>\n",
       "      <th>category</th>\n",
       "      <th>subcategory</th>\n",
       "      <th>brand</th>\n",
       "      <th>price</th>\n",
       "      <th>cost</th>\n",
       "      <th>weight</th>\n",
       "    </tr>\n",
       "  </thead>\n",
       "  <tbody>\n",
       "    <tr>\n",
       "      <th>3</th>\n",
       "      <td>4</td>\n",
       "      <td>Dell XPS 13</td>\n",
       "      <td>Electronics</td>\n",
       "      <td>Laptops</td>\n",
       "      <td>Dell</td>\n",
       "      <td>1299.99</td>\n",
       "      <td>899.99</td>\n",
       "      <td>2.80</td>\n",
       "    </tr>\n",
       "    <tr>\n",
       "      <th>0</th>\n",
       "      <td>1</td>\n",
       "      <td>Apple iPhone 13</td>\n",
       "      <td>Electronics</td>\n",
       "      <td>Smartphones</td>\n",
       "      <td>Apple</td>\n",
       "      <td>899.99</td>\n",
       "      <td>649.99</td>\n",
       "      <td>0.45</td>\n",
       "    </tr>\n",
       "    <tr>\n",
       "      <th>1</th>\n",
       "      <td>2</td>\n",
       "      <td>Samsung Galaxy S21</td>\n",
       "      <td>electronics</td>\n",
       "      <td>Smartphones</td>\n",
       "      <td>Samsung</td>\n",
       "      <td>799.99</td>\n",
       "      <td>539.99</td>\n",
       "      <td>0.50</td>\n",
       "    </tr>\n",
       "    <tr>\n",
       "      <th>19</th>\n",
       "      <td>20</td>\n",
       "      <td>Dyson V11 Vacuum</td>\n",
       "      <td>HOME &amp; KITCHEN</td>\n",
       "      <td>Appliances</td>\n",
       "      <td>Dyson</td>\n",
       "      <td>599.99</td>\n",
       "      <td>375.00</td>\n",
       "      <td>6.70</td>\n",
       "    </tr>\n",
       "    <tr>\n",
       "      <th>26</th>\n",
       "      <td>27</td>\n",
       "      <td>Sony PlayStation 5</td>\n",
       "      <td>Electronics</td>\n",
       "      <td>Gaming</td>\n",
       "      <td>Sony</td>\n",
       "      <td>499.99</td>\n",
       "      <td>399.00</td>\n",
       "      <td>4.50</td>\n",
       "    </tr>\n",
       "  </tbody>\n",
       "</table>\n",
       "</div>"
      ],
      "text/plain": [
       "    product_id        product_name        category  subcategory    brand  \\\n",
       "3            4         Dell XPS 13     Electronics      Laptops     Dell   \n",
       "0            1     Apple iPhone 13     Electronics  Smartphones    Apple   \n",
       "1            2  Samsung Galaxy S21     electronics  Smartphones  Samsung   \n",
       "19          20    Dyson V11 Vacuum  HOME & KITCHEN   Appliances    Dyson   \n",
       "26          27  Sony PlayStation 5     Electronics       Gaming     Sony   \n",
       "\n",
       "      price    cost  weight  \n",
       "3   1299.99  899.99    2.80  \n",
       "0    899.99  649.99    0.45  \n",
       "1    799.99  539.99    0.50  \n",
       "19   599.99  375.00    6.70  \n",
       "26   499.99  399.00    4.50  "
      ]
     },
     "execution_count": 53,
     "metadata": {},
     "output_type": "execute_result"
    }
   ],
   "source": [
    "#1.3 top 5 most expensive products\n",
    "products.sort_values(by='price', ascending=False).head(5)"
   ]
  },
  {
   "cell_type": "code",
   "execution_count": 54,
   "id": "38aeebd0-21cc-4b02-87a7-d18f8fd409c0",
   "metadata": {},
   "outputs": [
    {
     "data": {
      "text/html": [
       "<div>\n",
       "<style scoped>\n",
       "    .dataframe tbody tr th:only-of-type {\n",
       "        vertical-align: middle;\n",
       "    }\n",
       "\n",
       "    .dataframe tbody tr th {\n",
       "        vertical-align: top;\n",
       "    }\n",
       "\n",
       "    .dataframe thead th {\n",
       "        text-align: right;\n",
       "    }\n",
       "</style>\n",
       "<table border=\"1\" class=\"dataframe\">\n",
       "  <thead>\n",
       "    <tr style=\"text-align: right;\">\n",
       "      <th></th>\n",
       "      <th>store_id</th>\n",
       "      <th>store_name</th>\n",
       "      <th>address</th>\n",
       "      <th>city</th>\n",
       "      <th>state</th>\n",
       "      <th>zip_code</th>\n",
       "      <th>region</th>\n",
       "      <th>size_sqft</th>\n",
       "      <th>opening_date</th>\n",
       "    </tr>\n",
       "  </thead>\n",
       "  <tbody>\n",
       "    <tr>\n",
       "      <th>2</th>\n",
       "      <td>3</td>\n",
       "      <td>Los Angeles Plaza</td>\n",
       "      <td>789 Commerce St</td>\n",
       "      <td>Los Angeles</td>\n",
       "      <td>CA</td>\n",
       "      <td>90001</td>\n",
       "      <td>West</td>\n",
       "      <td>55000.0</td>\n",
       "      <td>2004-03-10</td>\n",
       "    </tr>\n",
       "  </tbody>\n",
       "</table>\n",
       "</div>"
      ],
      "text/plain": [
       "   store_id         store_name          address         city state zip_code  \\\n",
       "2         3  Los Angeles Plaza  789 Commerce St  Los Angeles    CA    90001   \n",
       "\n",
       "  region  size_sqft opening_date  \n",
       "2   West    55000.0   2004-03-10  "
      ]
     },
     "execution_count": 54,
     "metadata": {},
     "output_type": "execute_result"
    }
   ],
   "source": [
    "#1.3 largest floor space\n",
    "stores.sort_values(by='size_sqft', ascending=False).head(1)"
   ]
  },
  {
   "cell_type": "code",
   "execution_count": 55,
   "id": "7e6b13fe-8e8c-473b-837c-f1168f7457dd",
   "metadata": {},
   "outputs": [
    {
     "data": {
      "text/plain": [
       "state\n",
       "TX                4\n",
       "CA                3\n",
       "NY                2\n",
       "MA                1\n",
       "NM                1\n",
       "WI                1\n",
       "KY                1\n",
       "MD                1\n",
       "Maryland          1\n",
       "TN                1\n",
       "MI                1\n",
       "NV                1\n",
       "Oregon            1\n",
       "Washington        1\n",
       "CO                1\n",
       "California        1\n",
       "IN                1\n",
       "North Carolina    1\n",
       "OH                1\n",
       "FL                1\n",
       "Texas             1\n",
       "PA                1\n",
       "AZ                1\n",
       "IL                1\n",
       "MO                1\n",
       "Name: count, dtype: int64"
      ]
     },
     "execution_count": 55,
     "metadata": {},
     "output_type": "execute_result"
    }
   ],
   "source": [
    "#1.3 customers by state      \n",
    "customers['state'].value_counts()"
   ]
  },
  {
   "cell_type": "code",
   "execution_count": 56,
   "id": "decd6d0c-72cb-425f-8be9-a0c3715cc7f2",
   "metadata": {},
   "outputs": [],
   "source": [
    "#2.1 filling numerical values with mean\n",
    "products['weight']=products['weight'].fillna(products['weight'].mean())"
   ]
  },
  {
   "cell_type": "code",
   "execution_count": 57,
   "id": "48b96569-71d1-4e08-8f62-c7bcf7501fa6",
   "metadata": {},
   "outputs": [],
   "source": [
    "stores['size_sqft']=stores['size_sqft'].fillna(stores['size_sqft'].mean())"
   ]
  },
  {
   "cell_type": "code",
   "execution_count": 58,
   "id": "4ed08d68-3d96-401f-8484-cee89b51c1ae",
   "metadata": {},
   "outputs": [],
   "source": [
    "inventory['reorder_level']=inventory['reorder_level'].fillna(inventory['reorder_level'].mean())"
   ]
  },
  {
   "cell_type": "code",
   "execution_count": 63,
   "id": "d8ee5d28-cf90-448f-830f-4a55555d0c95",
   "metadata": {},
   "outputs": [],
   "source": [
    "#2.1 filling categorical values with mode\n",
    "sales['payment_method']= sales['payment_method'].fillna(sales['payment_method'].mode()[0])"
   ]
  },
  {
   "cell_type": "code",
   "execution_count": 64,
   "id": "4fd9ca49-a59a-4b63-9d6e-b41eb6a1c845",
   "metadata": {},
   "outputs": [],
   "source": [
    "sales['store_id']= sales['store_id'].fillna(sales['store_id'].mode())"
   ]
  },
  {
   "cell_type": "code",
   "execution_count": 65,
   "id": "e4414443-365e-498d-9c2f-6632fdc0bf30",
   "metadata": {},
   "outputs": [],
   "source": [
    "customers['zip_code']=customers['zip_code'].fillna(customers['zip_code'].mode())"
   ]
  },
  {
   "cell_type": "code",
   "execution_count": 67,
   "id": "8a601c97-7cbb-4568-bf32-4a66b55ea30c",
   "metadata": {},
   "outputs": [],
   "source": [
    "#2.2 removing duplicates from customers and products\n",
    "customers['customer_id']=customers['customer_id'].drop_duplicates()"
   ]
  },
  {
   "cell_type": "code",
   "execution_count": 68,
   "id": "fca29cb2-5449-455a-b8eb-08b69ab85a3d",
   "metadata": {},
   "outputs": [],
   "source": [
    "products['product_id']=products['product_id'].drop_duplicates()"
   ]
  },
  {
   "cell_type": "code",
   "execution_count": null,
   "id": "0550c0ca-977f-47dd-a297-ecde736be55f",
   "metadata": {},
   "outputs": [],
   "source": [
    "#2.2 explanation: I removed the duplicates attached to both primary keys as there shouldn't be any natural duplicates with those, they should be totally unique identifiers for individuals"
   ]
  }
 ],
 "metadata": {
  "kernelspec": {
   "display_name": "Python 3 (ipykernel)",
   "language": "python",
   "name": "python3"
  },
  "language_info": {
   "codemirror_mode": {
    "name": "ipython",
    "version": 3
   },
   "file_extension": ".py",
   "mimetype": "text/x-python",
   "name": "python",
   "nbconvert_exporter": "python",
   "pygments_lexer": "ipython3",
   "version": "3.13.2"
  }
 },
 "nbformat": 4,
 "nbformat_minor": 5
}
