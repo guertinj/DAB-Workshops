{
 "cells": [
  {
   "cell_type": "code",
   "execution_count": 3,
   "id": "dd3e6286-546e-4d12-aa06-7594f08f0331",
   "metadata": {},
   "outputs": [
    {
     "name": "stdout",
     "output_type": "stream",
     "text": [
      "5 <class 'int'>\n",
      "2.6 <class 'float'>\n",
      "Yellow <class 'str'>\n",
      "False <class 'bool'>\n"
     ]
    }
   ],
   "source": [
    "# Task 1: Variable Declaration and Data Types\n",
    "int_var = 5\n",
    "float_var = 2.6\n",
    "str_var = \"Yellow\"\n",
    "bool_var = False\n",
    "\n",
    "print(int_var, type(int_var))\n",
    "print(float_var, type(float_var))\n",
    "print(str_var, type(str_var))\n",
    "print(bool_var, type(bool_var))"
   ]
  },
  {
   "cell_type": "code",
   "execution_count": 5,
   "id": "a07de378-3900-4bc3-8911-4580b3245204",
   "metadata": {},
   "outputs": [
    {
     "name": "stdout",
     "output_type": "stream",
     "text": [
      "HELLO, DATA ANALYTICS BOOTCAMP!\n",
      "Howdy, Data Analytics Bootcamp!\n",
      "hello, data analytics bootcamp!\n"
     ]
    }
   ],
   "source": [
    "# Task 2: String Manipulation\n",
    "sample_string = \"Hello, Data Analytics Bootcamp!\"\n",
    "print(sample_string.upper())\n",
    "print(sample_string.replace(\"Hello\", \"Howdy\"))\n",
    "print(sample_string.lower())"
   ]
  },
  {
   "cell_type": "code",
   "execution_count": 6,
   "id": "23a1d4ae-5997-4449-997c-2007fd3a3ed3",
   "metadata": {},
   "outputs": [
    {
     "name": "stdout",
     "output_type": "stream",
     "text": [
      "24 12 108 3.0 0 34012224\n",
      "True False False True True False\n",
      "True True True\n"
     ]
    }
   ],
   "source": [
    "# Task 3: Basic Operations\n",
    "a, b = 18, 6\n",
    "print(a + b, a - b, a * b, a / b, a % b, a ** b) #Logical\n",
    "print(a > b, a < b, a == b, a != b, a >= b, a <= b) #Comparison\n",
    "print(a > 15 and b < 7, a < 2 or b > 5, not (a==b)) #Logical"
   ]
  },
  {
   "cell_type": "code",
   "execution_count": 7,
   "id": "29143cd1-5433-4496-8155-d1df2135338c",
   "metadata": {},
   "outputs": [
    {
     "name": "stdout",
     "output_type": "stream",
     "text": [
      "20\n",
      "Jack\n",
      "200\n"
     ]
    }
   ],
   "source": [
    "# Task 4: Data Collections\n",
    "my_list = [5, 10, 15, 20, 25]\n",
    "my_dict = {\"name\": \"Jack\", \"age\": 24}\n",
    "my_tuple = (100, 200, 300, 400, 500)\n",
    "\n",
    "print(my_list[3])\n",
    "print(my_dict[\"name\"])\n",
    "print(my_tuple[1])"
   ]
  },
  {
   "cell_type": "code",
   "execution_count": 12,
   "id": "c0a85a13-5de3-40cd-bfa3-67931bd28f21",
   "metadata": {},
   "outputs": [
    {
     "name": "stdout",
     "output_type": "stream",
     "text": [
      "Final Result: 91.19999999999999\n"
     ]
    }
   ],
   "source": [
    "# Task 5: Expression Combination\n",
    "int_var = 5\n",
    "float_var = 2.6\n",
    "a, b = 18,6\n",
    "result = ((int_var + float_var) * (a-b))\n",
    "print(\"Final Result:\", result)"
   ]
  },
  {
   "cell_type": "code",
   "execution_count": null,
   "id": "c27cdd86-fca3-46cd-92ff-a036d75a03df",
   "metadata": {},
   "outputs": [],
   "source": []
  }
 ],
 "metadata": {
  "kernelspec": {
   "display_name": "Python 3 (ipykernel)",
   "language": "python",
   "name": "python3"
  },
  "language_info": {
   "codemirror_mode": {
    "name": "ipython",
    "version": 3
   },
   "file_extension": ".py",
   "mimetype": "text/x-python",
   "name": "python",
   "nbconvert_exporter": "python",
   "pygments_lexer": "ipython3",
   "version": "3.13.2"
  }
 },
 "nbformat": 4,
 "nbformat_minor": 5
}
