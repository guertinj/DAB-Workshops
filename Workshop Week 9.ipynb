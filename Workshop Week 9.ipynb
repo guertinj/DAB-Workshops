{
 "cells": [
  {
   "cell_type": "code",
   "execution_count": 1,
   "id": "5c8917bc-b677-4139-80cc-f7f9c6e5c60b",
   "metadata": {},
   "outputs": [],
   "source": [
    "import pandas as pd"
   ]
  },
  {
   "cell_type": "code",
   "execution_count": 3,
   "id": "d6bc96c0-2432-4ba4-ad73-092464998e4b",
   "metadata": {},
   "outputs": [],
   "source": [
    "customers=pd.read_csv('Downloads/customers_wk9_thurs.csv')\n",
    "products=pd.read_csv('Downloads/products_wk9_thurs.csv')\n",
    "sales=pd.read_csv('Downloads/sales_wk9_thurs.csv')"
   ]
  },
  {
   "cell_type": "code",
   "execution_count": 4,
   "id": "7a82d3c8-965f-4397-a8c1-6b25d8526550",
   "metadata": {},
   "outputs": [
    {
     "data": {
      "text/html": [
       "<div>\n",
       "<style scoped>\n",
       "    .dataframe tbody tr th:only-of-type {\n",
       "        vertical-align: middle;\n",
       "    }\n",
       "\n",
       "    .dataframe tbody tr th {\n",
       "        vertical-align: top;\n",
       "    }\n",
       "\n",
       "    .dataframe thead th {\n",
       "        text-align: right;\n",
       "    }\n",
       "</style>\n",
       "<table border=\"1\" class=\"dataframe\">\n",
       "  <thead>\n",
       "    <tr style=\"text-align: right;\">\n",
       "      <th></th>\n",
       "      <th>customer_id</th>\n",
       "      <th>first_name</th>\n",
       "      <th>last_name</th>\n",
       "      <th>age</th>\n",
       "      <th>state</th>\n",
       "      <th>income</th>\n",
       "      <th>registration_date</th>\n",
       "      <th>email</th>\n",
       "    </tr>\n",
       "  </thead>\n",
       "  <tbody>\n",
       "    <tr>\n",
       "      <th>0</th>\n",
       "      <td>1</td>\n",
       "      <td>John</td>\n",
       "      <td>Smith</td>\n",
       "      <td>34</td>\n",
       "      <td>CA</td>\n",
       "      <td>75000</td>\n",
       "      <td>2022-01-15</td>\n",
       "      <td>john.smith@email.com</td>\n",
       "    </tr>\n",
       "    <tr>\n",
       "      <th>1</th>\n",
       "      <td>2</td>\n",
       "      <td>Sarah</td>\n",
       "      <td>Johnson</td>\n",
       "      <td>28</td>\n",
       "      <td>NY</td>\n",
       "      <td>82000</td>\n",
       "      <td>2022-01-22</td>\n",
       "      <td>sarah.johnson@email.com</td>\n",
       "    </tr>\n",
       "    <tr>\n",
       "      <th>2</th>\n",
       "      <td>3</td>\n",
       "      <td>Michael</td>\n",
       "      <td>Brown</td>\n",
       "      <td>45</td>\n",
       "      <td>TX</td>\n",
       "      <td>95000</td>\n",
       "      <td>2022-02-03</td>\n",
       "      <td>michael.brown@email.com</td>\n",
       "    </tr>\n",
       "  </tbody>\n",
       "</table>\n",
       "</div>"
      ],
      "text/plain": [
       "   customer_id first_name last_name  age state  income registration_date  \\\n",
       "0            1       John     Smith   34    CA   75000        2022-01-15   \n",
       "1            2      Sarah   Johnson   28    NY   82000        2022-01-22   \n",
       "2            3    Michael     Brown   45    TX   95000        2022-02-03   \n",
       "\n",
       "                     email  \n",
       "0     john.smith@email.com  \n",
       "1  sarah.johnson@email.com  \n",
       "2  michael.brown@email.com  "
      ]
     },
     "execution_count": 4,
     "metadata": {},
     "output_type": "execute_result"
    }
   ],
   "source": [
    "customers.head(3)"
   ]
  },
  {
   "cell_type": "code",
   "execution_count": 5,
   "id": "138eb1ec-25c2-4945-b9ac-ac6e40458e69",
   "metadata": {},
   "outputs": [
    {
     "data": {
      "text/html": [
       "<div>\n",
       "<style scoped>\n",
       "    .dataframe tbody tr th:only-of-type {\n",
       "        vertical-align: middle;\n",
       "    }\n",
       "\n",
       "    .dataframe tbody tr th {\n",
       "        vertical-align: top;\n",
       "    }\n",
       "\n",
       "    .dataframe thead th {\n",
       "        text-align: right;\n",
       "    }\n",
       "</style>\n",
       "<table border=\"1\" class=\"dataframe\">\n",
       "  <thead>\n",
       "    <tr style=\"text-align: right;\">\n",
       "      <th></th>\n",
       "      <th>product_id</th>\n",
       "      <th>product_name</th>\n",
       "      <th>category</th>\n",
       "      <th>price</th>\n",
       "      <th>launch_date</th>\n",
       "      <th>brand</th>\n",
       "    </tr>\n",
       "  </thead>\n",
       "  <tbody>\n",
       "    <tr>\n",
       "      <th>0</th>\n",
       "      <td>1</td>\n",
       "      <td>Wireless Bluetooth Headphones</td>\n",
       "      <td>Electronics</td>\n",
       "      <td>79.99</td>\n",
       "      <td>2021-03-15</td>\n",
       "      <td>AudioTech</td>\n",
       "    </tr>\n",
       "    <tr>\n",
       "      <th>1</th>\n",
       "      <td>2</td>\n",
       "      <td>Organic Cotton T-Shirt</td>\n",
       "      <td>Clothing</td>\n",
       "      <td>24.99</td>\n",
       "      <td>2021-04-20</td>\n",
       "      <td>EcoWear</td>\n",
       "    </tr>\n",
       "    <tr>\n",
       "      <th>2</th>\n",
       "      <td>3</td>\n",
       "      <td>Stainless Steel Water Bottle</td>\n",
       "      <td>Home &amp; Garden</td>\n",
       "      <td>19.99</td>\n",
       "      <td>2021-05-10</td>\n",
       "      <td>HydroLife</td>\n",
       "    </tr>\n",
       "    <tr>\n",
       "      <th>3</th>\n",
       "      <td>4</td>\n",
       "      <td>Leather Crossbody Bag</td>\n",
       "      <td>Accessories</td>\n",
       "      <td>89.99</td>\n",
       "      <td>2021-06-01</td>\n",
       "      <td>StyleCraft</td>\n",
       "    </tr>\n",
       "    <tr>\n",
       "      <th>4</th>\n",
       "      <td>5</td>\n",
       "      <td>Yoga Mat Premium</td>\n",
       "      <td>Sports &amp; Outdoors</td>\n",
       "      <td>34.99</td>\n",
       "      <td>2021-06-15</td>\n",
       "      <td>FitZone</td>\n",
       "    </tr>\n",
       "  </tbody>\n",
       "</table>\n",
       "</div>"
      ],
      "text/plain": [
       "   product_id                   product_name           category  price  \\\n",
       "0           1  Wireless Bluetooth Headphones        Electronics  79.99   \n",
       "1           2         Organic Cotton T-Shirt           Clothing  24.99   \n",
       "2           3   Stainless Steel Water Bottle      Home & Garden  19.99   \n",
       "3           4          Leather Crossbody Bag        Accessories  89.99   \n",
       "4           5               Yoga Mat Premium  Sports & Outdoors  34.99   \n",
       "\n",
       "  launch_date       brand  \n",
       "0  2021-03-15   AudioTech  \n",
       "1  2021-04-20     EcoWear  \n",
       "2  2021-05-10   HydroLife  \n",
       "3  2021-06-01  StyleCraft  \n",
       "4  2021-06-15     FitZone  "
      ]
     },
     "execution_count": 5,
     "metadata": {},
     "output_type": "execute_result"
    }
   ],
   "source": [
    "products.head()"
   ]
  },
  {
   "cell_type": "code",
   "execution_count": 6,
   "id": "6b03e7aa-6898-48bf-a3fb-2eb125bfb5ff",
   "metadata": {},
   "outputs": [
    {
     "data": {
      "text/html": [
       "<div>\n",
       "<style scoped>\n",
       "    .dataframe tbody tr th:only-of-type {\n",
       "        vertical-align: middle;\n",
       "    }\n",
       "\n",
       "    .dataframe tbody tr th {\n",
       "        vertical-align: top;\n",
       "    }\n",
       "\n",
       "    .dataframe thead th {\n",
       "        text-align: right;\n",
       "    }\n",
       "</style>\n",
       "<table border=\"1\" class=\"dataframe\">\n",
       "  <thead>\n",
       "    <tr style=\"text-align: right;\">\n",
       "      <th></th>\n",
       "      <th>sale_id</th>\n",
       "      <th>customer_id</th>\n",
       "      <th>product_id</th>\n",
       "      <th>transaction_date</th>\n",
       "      <th>quantity</th>\n",
       "      <th>total_amount</th>\n",
       "    </tr>\n",
       "  </thead>\n",
       "  <tbody>\n",
       "    <tr>\n",
       "      <th>0</th>\n",
       "      <td>1</td>\n",
       "      <td>1</td>\n",
       "      <td>1</td>\n",
       "      <td>2022-02-10 14:30:00</td>\n",
       "      <td>1</td>\n",
       "      <td>79.99</td>\n",
       "    </tr>\n",
       "    <tr>\n",
       "      <th>1</th>\n",
       "      <td>2</td>\n",
       "      <td>2</td>\n",
       "      <td>3</td>\n",
       "      <td>2022-02-15 10:15:00</td>\n",
       "      <td>2</td>\n",
       "      <td>39.98</td>\n",
       "    </tr>\n",
       "    <tr>\n",
       "      <th>2</th>\n",
       "      <td>3</td>\n",
       "      <td>3</td>\n",
       "      <td>5</td>\n",
       "      <td>2022-02-20 16:45:00</td>\n",
       "      <td>1</td>\n",
       "      <td>34.99</td>\n",
       "    </tr>\n",
       "    <tr>\n",
       "      <th>3</th>\n",
       "      <td>4</td>\n",
       "      <td>4</td>\n",
       "      <td>2</td>\n",
       "      <td>2022-02-25 11:20:00</td>\n",
       "      <td>3</td>\n",
       "      <td>74.97</td>\n",
       "    </tr>\n",
       "    <tr>\n",
       "      <th>4</th>\n",
       "      <td>5</td>\n",
       "      <td>5</td>\n",
       "      <td>4</td>\n",
       "      <td>2022-03-01 13:10:00</td>\n",
       "      <td>1</td>\n",
       "      <td>89.99</td>\n",
       "    </tr>\n",
       "  </tbody>\n",
       "</table>\n",
       "</div>"
      ],
      "text/plain": [
       "   sale_id  customer_id  product_id     transaction_date  quantity  \\\n",
       "0        1            1           1  2022-02-10 14:30:00         1   \n",
       "1        2            2           3  2022-02-15 10:15:00         2   \n",
       "2        3            3           5  2022-02-20 16:45:00         1   \n",
       "3        4            4           2  2022-02-25 11:20:00         3   \n",
       "4        5            5           4  2022-03-01 13:10:00         1   \n",
       "\n",
       "   total_amount  \n",
       "0         79.99  \n",
       "1         39.98  \n",
       "2         34.99  \n",
       "3         74.97  \n",
       "4         89.99  "
      ]
     },
     "execution_count": 6,
     "metadata": {},
     "output_type": "execute_result"
    }
   ],
   "source": [
    "sales.head()"
   ]
  },
  {
   "cell_type": "code",
   "execution_count": 11,
   "id": "d185311d-409f-4453-91c5-e38087685d43",
   "metadata": {},
   "outputs": [],
   "source": [
    "#1.1 a conversion to date_time\n",
    "customers['registration_date']=pd.to_datetime(customers['registration_date'])"
   ]
  },
  {
   "cell_type": "code",
   "execution_count": 14,
   "id": "0bfafb7a-0bc8-4883-bb12-2dbbd2e08821",
   "metadata": {},
   "outputs": [],
   "source": [
    "products['launch_date']=pd.to_datetime(products['launch_date'])"
   ]
  },
  {
   "cell_type": "code",
   "execution_count": 16,
   "id": "2f9387e7-ef12-40b1-b05a-3637e8e7334c",
   "metadata": {},
   "outputs": [],
   "source": [
    "sales['transaction_date']=pd.to_datetime(sales['transaction_date'])"
   ]
  },
  {
   "cell_type": "code",
   "execution_count": 24,
   "id": "a5271a93-0f5e-468f-8270-2c021d9ae747",
   "metadata": {},
   "outputs": [],
   "source": [
    "#1.1 b extraction of day, month , year\n",
    "sales['day_name']=sales['transaction_date'].dt.day_name()\n",
    "sales['day_number']=sales['transaction_date'].dt.weekday\n",
    "sales['sales_month']=sales['transaction_date'].dt.month\n",
    "sales['sales_year']=sales['transaction_date'].dt.year\n",
    "products['day_name']=products['launch_date'].dt.day_name()\n",
    "products['day_number']=products['launch_date'].dt.weekday\n",
    "products['launch_month']=products['launch_date'].dt.month\n",
    "products['launch_year']=products['launch_date'].dt.year\n",
    "customers['day_name']=customers['registration_date'].dt.day_name()\n",
    "customers['day_number']=customers['registration_date'].dt.weekday\n",
    "customers['registration_month']=customers['registration_date'].dt.month\n",
    "customers['reigistration_year']=customers['registration_date'].dt.year"
   ]
  },
  {
   "cell_type": "code",
   "execution_count": 39,
   "id": "1e6187af-5d6b-4209-a8dd-40160002a8bb",
   "metadata": {},
   "outputs": [
    {
     "name": "stdout",
     "output_type": "stream",
     "text": [
      "2024-03-05 10:30:00\n",
      "2022-02-10 14:30:00\n"
     ]
    }
   ],
   "source": [
    "#1.1 c finding date range from sales\n",
    "latest_date=sales['transaction_date'].max()\n",
    "earliest_date=sales['transaction_date'].min()\n",
    "print (latest_date)\n",
    "print (earliest_date)"
   ]
  },
  {
   "cell_type": "code",
   "execution_count": 42,
   "id": "659476bb-703d-4fa9-ae5d-f3431842b35b",
   "metadata": {},
   "outputs": [
    {
     "data": {
      "text/plain": [
       "day_name\n",
       "Friday    24\n",
       "Name: count, dtype: int64"
      ]
     },
     "execution_count": 42,
     "metadata": {},
     "output_type": "execute_result"
    }
   ],
   "source": [
    "#1.2 a finding the busiest day of the week\n",
    "sales['day_name'].value_counts().head(1)"
   ]
  },
  {
   "cell_type": "code",
   "execution_count": 45,
   "id": "73e28b41-4ca1-4df5-9f7f-6bf84ab4b7de",
   "metadata": {},
   "outputs": [
    {
     "data": {
      "text/plain": [
       "sales_month\n",
       "2    16\n",
       "Name: count, dtype: int64"
      ]
     },
     "execution_count": 45,
     "metadata": {},
     "output_type": "execute_result"
    }
   ],
   "source": [
    "#1.2 b finding sales by year\n",
    "sales['sales_month'].value_counts().head(1)"
   ]
  },
  {
   "cell_type": "code",
   "execution_count": 47,
   "id": "101f0995-4306-4614-b9ee-69dcd59f4791",
   "metadata": {},
   "outputs": [
    {
     "data": {
      "text/plain": [
       "sales_year\n",
       "2022    65\n",
       "2023    72\n",
       "2024    13\n",
       "Name: count, dtype: int64"
      ]
     },
     "execution_count": 47,
     "metadata": {},
     "output_type": "execute_result"
    }
   ],
   "source": [
    "#1.2 c finding sales by year\n",
    "sales['sales_year'].value_counts().sort_index()"
   ]
  },
  {
   "cell_type": "code",
   "execution_count": 89,
   "id": "755db097-bbe7-4069-aace-eabb522befc6",
   "metadata": {},
   "outputs": [
    {
     "data": {
      "text/plain": [
       "category\n",
       "Accessories           35.07\n",
       "Clothing              52.24\n",
       "Electronics           59.99\n",
       "Home & Garden         30.16\n",
       "Sports & Outdoors    105.90\n",
       "Name: price, dtype: float64"
      ]
     },
     "execution_count": 89,
     "metadata": {},
     "output_type": "execute_result"
    }
   ],
   "source": [
    "#2.1 a group products by category, find mean of categories\n",
    "products.groupby('category')['price'].mean().round(2)"
   ]
  },
  {
   "cell_type": "code",
   "execution_count": 86,
   "id": "18a97bff-1fe5-45ed-8fed-12d619a96fba",
   "metadata": {},
   "outputs": [
    {
     "data": {
      "text/plain": [
       "category\n",
       "Electronics          13\n",
       "Clothing             12\n",
       "Home & Garden        12\n",
       "Accessories          12\n",
       "Sports & Outdoors    11\n",
       "Name: count, dtype: int64"
      ]
     },
     "execution_count": 86,
     "metadata": {},
     "output_type": "execute_result"
    }
   ],
   "source": [
    "#2.1 b count how many products are in each category\n",
    "products['category'].value_counts()"
   ]
  },
  {
   "cell_type": "code",
   "execution_count": 90,
   "id": "3c4b1e04-e7c9-42a6-9e26-ade5c7314b56",
   "metadata": {},
   "outputs": [
    {
     "data": {
      "text/plain": [
       "state\n",
       "CA    34.10\n",
       "FL    39.00\n",
       "IL    37.25\n",
       "NY    36.50\n",
       "TX    38.30\n",
       "Name: age, dtype: float64"
      ]
     },
     "execution_count": 90,
     "metadata": {},
     "output_type": "execute_result"
    }
   ],
   "source": [
    "#2.2 a group customers by state and find average age\n",
    "customers.groupby('state')['age'].mean()"
   ]
  },
  {
   "cell_type": "code",
   "execution_count": 92,
   "id": "6da8e6e1-3608-4310-8075-7654c16292df",
   "metadata": {},
   "outputs": [
    {
     "data": {
      "text/plain": [
       "customer_id\n",
       "1     229.98\n",
       "2     179.96\n",
       "3     154.98\n",
       "4     234.95\n",
       "5     149.98\n",
       "       ...  \n",
       "86     34.99\n",
       "87     83.97\n",
       "88    109.98\n",
       "89     29.99\n",
       "90    139.96\n",
       "Name: total_amount, Length: 90, dtype: float64"
      ]
     },
     "execution_count": 92,
     "metadata": {},
     "output_type": "execute_result"
    }
   ],
   "source": [
    "#2.2 b calculate total spending by customer\n",
    "sales.groupby('customer_id')['total_amount'].sum()"
   ]
  },
  {
   "cell_type": "code",
   "execution_count": 93,
   "id": "a9624d4b-6e7e-4556-9399-86381d549eda",
   "metadata": {},
   "outputs": [
    {
     "data": {
      "text/plain": [
       "customer_id\n",
       "1     2\n",
       "2     2\n",
       "3     2\n",
       "4     2\n",
       "5     2\n",
       "     ..\n",
       "86    1\n",
       "87    1\n",
       "88    1\n",
       "89    1\n",
       "90    1\n",
       "Length: 90, dtype: int64"
      ]
     },
     "execution_count": 93,
     "metadata": {},
     "output_type": "execute_result"
    }
   ],
   "source": [
    "#2.2 c find customers who made the most purchases (value counts also works here)\n",
    "sales.groupby('customer_id').size()"
   ]
  },
  {
   "cell_type": "code",
   "execution_count": 94,
   "id": "99bf1037-ece4-4156-9294-9af57c7cceeb",
   "metadata": {},
   "outputs": [
    {
     "data": {
      "text/plain": [
       "sales_month\n",
       "1      864.79\n",
       "2     1669.66\n",
       "3     1115.77\n",
       "4      924.77\n",
       "5     1177.79\n",
       "6      986.68\n",
       "7      930.80\n",
       "8      870.74\n",
       "9     1150.76\n",
       "10    1235.80\n",
       "11    1022.76\n",
       "12    1458.71\n",
       "Name: total_amount, dtype: float64"
      ]
     },
     "execution_count": 94,
     "metadata": {},
     "output_type": "execute_result"
    }
   ],
   "source": [
    "#2.3 a total sales revenue by month\n",
    "sales.groupby('sales_month')['total_amount'].sum()"
   ]
  },
  {
   "cell_type": "code",
   "execution_count": 98,
   "id": "34ae4709-51e7-498a-bb91-8b9a907baf68",
   "metadata": {},
   "outputs": [
    {
     "data": {
      "text/plain": [
       "day_number\n",
       "0     90.93\n",
       "1     74.03\n",
       "2     96.07\n",
       "3    102.27\n",
       "4    100.94\n",
       "5     61.12\n",
       "6     99.55\n",
       "Name: total_amount, dtype: float64"
      ]
     },
     "execution_count": 98,
     "metadata": {},
     "output_type": "execute_result"
    }
   ],
   "source": [
    "#2.3 b find average transaction amount by day of the week\n",
    "sales.groupby('day_number')['total_amount'].mean().round(2)"
   ]
  },
  {
   "cell_type": "code",
   "execution_count": 102,
   "id": "a344d2ba-33da-486d-923a-247e2dd79891",
   "metadata": {},
   "outputs": [
    {
     "data": {
      "text/plain": [
       "category\n",
       "Accessories          389\n",
       "Clothing             375\n",
       "Electronics          371\n",
       "Home & Garden        355\n",
       "Sports & Outdoors    340\n",
       "Name: product_id, dtype: int64"
      ]
     },
     "execution_count": 102,
     "metadata": {},
     "output_type": "execute_result"
    }
   ],
   "source": [
    "#2.3 c determine which product category generates the most revenue\n",
    "sales.groupby('product_id')['total_amount'].sum()\n",
    "products.groupby('category')['product_id'].sum()"
   ]
  },
  {
   "cell_type": "code",
   "execution_count": 103,
   "id": "e0bc36cc-0a6c-4323-89a1-2d27452a6147",
   "metadata": {},
   "outputs": [
    {
     "data": {
      "text/plain": [
       "state\n",
       "CA    20\n",
       "NY    20\n",
       "TX    20\n",
       "FL    20\n",
       "IL    20\n",
       "Name: count, dtype: int64"
      ]
     },
     "execution_count": 103,
     "metadata": {},
     "output_type": "execute_result"
    }
   ],
   "source": [
    "#3.1 a find which state has the most customers\n",
    "customers['state'].value_counts()"
   ]
  },
  {
   "cell_type": "code",
   "execution_count": 107,
   "id": "dd2b756b-3fe9-4678-b707-c38d6990cdf1",
   "metadata": {},
   "outputs": [
    {
     "data": {
      "text/plain": [
       "customer_id\n",
       "31    379.97\n",
       "13    359.96\n",
       "41    329.98\n",
       "84    319.98\n",
       "30    284.98\n",
       "Name: total_amount, dtype: float64"
      ]
     },
     "execution_count": 107,
     "metadata": {},
     "output_type": "execute_result"
    }
   ],
   "source": [
    "#3.1 b determine top 5 customers by total spending\n",
    "sales.groupby('customer_id')['total_amount'].sum().nlargest(5)"
   ]
  },
  {
   "cell_type": "code",
   "execution_count": 110,
   "id": "5a9d56a0-df47-4d40-97c7-1c8578b3a70e",
   "metadata": {},
   "outputs": [
    {
     "data": {
      "text/plain": [
       "day_number\n",
       "3    102.27\n",
       "Name: total_amount, dtype: float64"
      ]
     },
     "execution_count": 110,
     "metadata": {},
     "output_type": "execute_result"
    }
   ],
   "source": [
    "#3.1 c which day of the week has the highest average transaction value\n",
    "sales.groupby('day_number')['total_amount'].mean().round(2).nlargest(1)"
   ]
  },
  {
   "cell_type": "code",
   "execution_count": null,
   "id": "1c817da8-33a0-4ee2-b8ff-e38150631ec8",
   "metadata": {},
   "outputs": [],
   "source": []
  }
 ],
 "metadata": {
  "kernelspec": {
   "display_name": "Python 3 (ipykernel)",
   "language": "python",
   "name": "python3"
  },
  "language_info": {
   "codemirror_mode": {
    "name": "ipython",
    "version": 3
   },
   "file_extension": ".py",
   "mimetype": "text/x-python",
   "name": "python",
   "nbconvert_exporter": "python",
   "pygments_lexer": "ipython3",
   "version": "3.13.2"
  }
 },
 "nbformat": 4,
 "nbformat_minor": 5
}
